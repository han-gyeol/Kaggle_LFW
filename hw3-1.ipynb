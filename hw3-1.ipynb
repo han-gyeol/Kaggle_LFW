{
 "cells": [
  {
   "cell_type": "markdown",
   "metadata": {
    "collapsed": true
   },
   "source": [
    "# Homework #3"
   ]
  },
  {
   "cell_type": "markdown",
   "metadata": {},
   "source": [
    "## Load Data"
   ]
  },
  {
   "cell_type": "code",
   "execution_count": null,
   "metadata": {},
   "outputs": [],
   "source": [
    "import numpy as np\n",
    "import numpy.random as nr\n",
    "import matplotlib.pyplot as plt\n",
    "%matplotlib inline\n",
    "import seaborn as sb\n",
    "import cv2\n",
    "import pandas as pd\n",
    "from PIL import Image\n",
    "\n",
    "from keras.models import Sequential\n",
    "from keras.layers import Dense, Dropout, Activation, Flatten\n",
    "from keras.layers import Convolution2D, MaxPooling2D\n",
    "from keras import regularizers\n",
    "from keras.utils import np_utils\n",
    "\n",
    "# Size the plot appropriately for online display\n",
    "plt.rcParams['figure.figsize'] = (16.0, 12.0)\n",
    "\n",
    "nr.seed(3244)\n",
    "\n",
    "x_train = np.load('X_train.npy')\n",
    "y_train = np.load('y_train.npy')\n",
    "x_test = np.load('X_test.npy')\n",
    "\n",
    "\n",
    "def imageResize(img):\n",
    "    return cv2.resize(img, (0,0), fx=3, fy=3)\n",
    "\n",
    "# Reshape\n",
    "X_train = x_train.reshape(x_train.shape[0], 50, 37)\n",
    "X_test = x_test.reshape(x_test.shape[0], 50, 37)\n",
    "\n",
    "# Resize\n",
    "# X_train = np.asarray(list(map(imageResize, x_train_reshaped)))\n",
    "# X_test = np.asarray(list(map(imageResize, x_test_reshaped)))\n",
    "\n",
    "N, HEIGHT, WIDTH = X_train.shape"
   ]
  },
  {
   "cell_type": "markdown",
   "metadata": {},
   "source": [
    "# Image Preprocessing Utilities"
   ]
  },
  {
   "cell_type": "code",
   "execution_count": null,
   "metadata": {
    "collapsed": true
   },
   "outputs": [],
   "source": [
    "# Format output file\n",
    "def saveOutput(y_test):\n",
    "    df = pd.DataFrame(y_test,columns=['PredictedClass'])\n",
    "    df['Imageid']=np.arange(len(df))\n",
    "    df.to_csv('y_test.csv',index=False)"
   ]
  },
  {
   "cell_type": "code",
   "execution_count": null,
   "metadata": {
    "collapsed": true
   },
   "outputs": [],
   "source": [
    "def imageFilter(img, kernel):\n",
    "    kernel = np.array(kernel,np.int32)/25\n",
    "    return cv2.filter2D(img,-1,kernel)"
   ]
  },
  {
   "cell_type": "code",
   "execution_count": null,
   "metadata": {
    "collapsed": true
   },
   "outputs": [],
   "source": [
    "def gaussianBlur(img):\n",
    "    return cv2.GaussianBlur(img,(5,5),0)"
   ]
  },
  {
   "cell_type": "code",
   "execution_count": null,
   "metadata": {
    "collapsed": true
   },
   "outputs": [],
   "source": [
    "def sharpen(img):\n",
    "    kernel = np.array([[0,-1,0],[-1,5,-1],[0,-1,0]],np.int32)/25\n",
    "    return cv2.filter2D(img,-1,kernel)"
   ]
  },
  {
   "cell_type": "code",
   "execution_count": null,
   "metadata": {
    "collapsed": true
   },
   "outputs": [],
   "source": [
    "def unsharpMask(img):\n",
    "    gaussian_3 = cv2.GaussianBlur(img, (9,9), 10.0)\n",
    "    return cv2.addWeighted(img, 1.5, gaussian_3, -0.5, 0, img)"
   ]
  },
  {
   "cell_type": "markdown",
   "metadata": {},
   "source": [
    "### Test Image"
   ]
  },
  {
   "cell_type": "code",
   "execution_count": null,
   "metadata": {},
   "outputs": [],
   "source": [
    "testImg = X_train[543]\n",
    "plt.axis('off')\n",
    "plt.imshow(testImg)"
   ]
  },
  {
   "cell_type": "code",
   "execution_count": null,
   "metadata": {},
   "outputs": [],
   "source": [
    "# Sobel Filter\n",
    "\n",
    "def sobelFilter(imageArray):\n",
    "    sobelHorizontal = imageFilter(imageArray, [[3,10,3],[0,0,0],[-3,-10,-3]])\n",
    "    sobelVertical = imageFilter(imageArray, [[-3,0,3],[-10,0,10],[-3,0,3]])\n",
    "    \n",
    "    sobel = np.empty([HEIGHT, WIDTH])\n",
    "    for i in range (0, HEIGHT):\n",
    "        for j in range (0, WIDTH):\n",
    "            sobel[i][j] = (sobelHorizontal[i][j]**2 + sobelVertical[i][j]**2)**(1/2)\n",
    "            \n",
    "    return sobel\n",
    "\n",
    "sobel = sobelFilter(testImg)\n",
    "plt.axis('off')\n",
    "plt.imshow(sobel)"
   ]
  },
  {
   "cell_type": "code",
   "execution_count": null,
   "metadata": {},
   "outputs": [],
   "source": [
    "# Sobel Filter 2D\n",
    "import math\n",
    "\n",
    "def sobelFilter2D(imageArray):\n",
    "    sobelx = cv2.Sobel(imageArray,cv2.CV_64F,1,0,ksize=3)\n",
    "    sobely = cv2.Sobel(imageArray,cv2.CV_64F,0,1,ksize=3)\n",
    "    sobel = np.empty([HEIGHT, WIDTH, 2])\n",
    "    for i in range (0, HEIGHT):\n",
    "        for j in range (0, WIDTH):\n",
    "            sobel[i][j][0] = (sobelx[i][j]**2 + sobely[i][j]**2)**(1/2)\n",
    "            sobel[i][j][1] = np.arctan(sobely[i][j] / sobelx[i][j])\n",
    "            if math.isnan(sobel[i][j][1]): sobel[i][j][1] = 0\n",
    "    return sobel"
   ]
  },
  {
   "cell_type": "code",
   "execution_count": null,
   "metadata": {},
   "outputs": [],
   "source": [
    "# canny Filter\n",
    "\n",
    "def cannyFilter(imageArray):\n",
    "    imageArrayCopy = np.uint8(imageArray)\n",
    "    img = cv2.Canny(imageArrayCopy,10,50)\n",
    "    \n",
    "    return img\n",
    "\n",
    "img = cannyFilter(testImg)\n",
    "plt.axis('off')\n",
    "plt.imshow(img)"
   ]
  },
  {
   "cell_type": "markdown",
   "metadata": {},
   "source": [
    "# CNN MODEL"
   ]
  },
  {
   "cell_type": "code",
   "execution_count": null,
   "metadata": {
    "collapsed": true
   },
   "outputs": [],
   "source": [
    "def cnn(X_train, y_train, X_test, image_shape):\n",
    "    HEIGHT, WIDTH, DIMENSION = image_shape\n",
    "    # Reshape\n",
    "    X_train = X_train.reshape(X_train.shape[0], HEIGHT, WIDTH, DIMENSION)\n",
    "    X_test = X_test.reshape(X_test.shape[0], HEIGHT, WIDTH, DIMENSION)\n",
    "\n",
    "    # Normalize\n",
    "    X_train = X_train.astype('float32')\n",
    "    X_test = X_test.astype('float32')\n",
    "    X_train /= 255\n",
    "    X_test /= 255\n",
    "\n",
    "    # Convert label to categorical matrix\n",
    "    Y_train = np_utils.to_categorical(y_train, 7)\n",
    "\n",
    "    # Declare Sequential model\n",
    "    model = Sequential()\n",
    "\n",
    "    # CNN model architecture\n",
    "    model.add(Convolution2D(32, (3, 3), activation='relu', input_shape=(HEIGHT, WIDTH, DIMENSION)))\n",
    "    model.add(Convolution2D(32, (3, 3), activation='relu'))\n",
    "    model.add(MaxPooling2D(pool_size=(3,3)))\n",
    "    model.add(Dropout(0.5))\n",
    "\n",
    "    model.add(Flatten())\n",
    "    model.add(Dense(1024, activation='relu'))\n",
    "    model.add(Dropout(0.7))\n",
    "    model.add(Dense(7, activation='softmax'))\n",
    "\n",
    "    # Compile model\n",
    "    model.compile(loss='categorical_crossentropy',\n",
    "                  optimizer='adam',\n",
    "                  metrics=['accuracy'])\n",
    "    \n",
    "    model.summary()\n",
    "\n",
    "    # Fit model\n",
    "    model.fit(X_train, Y_train,\n",
    "              validation_split=0.5, shuffle=True,\n",
    "              batch_size=42, epochs=1, verbose=1)\n",
    "    \n",
    "    # Evaluate train data\n",
    "    score = model.evaluate(X_train, Y_train, verbose=1)\n",
    "    print()\n",
    "    print(\"Train Accuracy: \" + str(score[1]))\n",
    "    print()\n",
    "    \n",
    "    # Predict test data\n",
    "    prediction = model.predict(X_test, verbose=1)\n",
    "    \n",
    "    # Get output for test data\n",
    "    y_test = map(np.argmax, prediction)\n",
    "    y_test = np.asarray(list(y_test))\n",
    "    print(\"Test output\")\n",
    "    print(y_test)\n",
    "    print(y_test.shape)\n",
    "    \n",
    "    return y_test"
   ]
  },
  {
   "cell_type": "markdown",
   "metadata": {},
   "source": [
    "## VANILLA IMAGES"
   ]
  },
  {
   "cell_type": "code",
   "execution_count": null,
   "metadata": {},
   "outputs": [],
   "source": [
    "y_test = cnn(X_train, y_train, X_test, (HEIGHT, WIDTH, 1))"
   ]
  },
  {
   "cell_type": "code",
   "execution_count": null,
   "metadata": {
    "collapsed": true
   },
   "outputs": [],
   "source": [
    "saveOutput(y_test)"
   ]
  },
  {
   "cell_type": "markdown",
   "metadata": {},
   "source": [
    "## SOBEL FILTERED IMAGES version 1"
   ]
  },
  {
   "cell_type": "code",
   "execution_count": null,
   "metadata": {},
   "outputs": [],
   "source": [
    "# Apply sobel filter\n",
    "X_train_sobel = np.asarray(list(map(sobelFilter, X_train)))\n",
    "X_test_sobel = np.asarray(list(map(sobelFilter, X_test)))\n",
    "\n",
    "y_test = cnn(X_train_sobel, y_train, X_test_sobel, (HEIGHT, WIDTH, 1))"
   ]
  },
  {
   "cell_type": "code",
   "execution_count": null,
   "metadata": {
    "collapsed": true
   },
   "outputs": [],
   "source": [
    "saveOutput(y_test)"
   ]
  },
  {
   "cell_type": "markdown",
   "metadata": {},
   "source": [
    "## SOBEL FILTERED IMAGES version 2"
   ]
  },
  {
   "cell_type": "code",
   "execution_count": null,
   "metadata": {},
   "outputs": [],
   "source": [
    "# Apply 2D sobel filter\n",
    "X_train_sobel2D = np.asarray(list(map(sobelFilter2D, X_train)))\n",
    "X_test_sobel2D = np.asarray(list(map(sobelFilter2D, X_test)))\n",
    "\n",
    "y_test = cnn(X_train_sobel2D, y_train, X_test_sobel2D, (HEIGHT, WIDTH, 2))"
   ]
  },
  {
   "cell_type": "code",
   "execution_count": null,
   "metadata": {
    "collapsed": true
   },
   "outputs": [],
   "source": [
    "saveOutput(y_test)"
   ]
  },
  {
   "cell_type": "markdown",
   "metadata": {},
   "source": [
    "## CANNY FILTERED IMAGES"
   ]
  },
  {
   "cell_type": "code",
   "execution_count": null,
   "metadata": {},
   "outputs": [],
   "source": [
    "# Apply canny filter\n",
    "X_train_canny = np.asarray(list(map(cannyFilter, X_train)))\n",
    "X_test_canny = np.asaveOutput(y_test)sarray(list(map(cannyFilter, X_test)))\n",
    "\n",
    "y_test = cnn(X_train_canny, y_train, X_test_canny, (HEIGHT, WIDTH, 1))"
   ]
  },
  {
   "cell_type": "code",
   "execution_count": null,
   "metadata": {
    "collapsed": true
   },
   "outputs": [],
   "source": [
    "saveOutput(y_test)"
   ]
  },
  {
   "cell_type": "markdown",
   "metadata": {},
   "source": [
    "# Bayesian Optimization Hyperparameter Tuning"
   ]
  },
  {
   "cell_type": "code",
   "execution_count": null,
   "metadata": {},
   "outputs": [],
   "source": [
    "from bayes_opt import BayesianOptimization\n",
    "\n",
    "# Reshape to 1 dimension\n",
    "X_train_vanilla = X_train.reshape(X_train.shape[0], HEIGHT, WIDTH, 1)\n",
    "X_test_vanilla = X_test.reshape(X_test.shape[0], HEIGHT, WIDTH, 1)\n",
    "\n",
    "# Normalize\n",
    "X_train_vanilla = X_train_vanilla.astype('float32')\n",
    "X_test_vanilla = X_test_vanilla.astype('float32')\n",
    "X_train_vanilla /= 255\n",
    "X_test_vanilla /= 255\n",
    "\n",
    "# Change to categorical matrix\n",
    "Y_train_vanilla = np_utils.to_categorical(y_train, 7)\n",
    "\n",
    "# Split to train set and validation set\n",
    "X_train_original = X_train_vanilla[:700]\n",
    "Y_train_original = Y_train_vanilla[:700]\n",
    "\n",
    "X_validate = X_train_vanilla[700:]\n",
    "Y_validate = Y_train_vanilla[700:]\n",
    "\n",
    "def cnn(drop_rate1, drop_rate2, dense_size, batch_size, epochs):\n",
    "    dense = int(dense)\n",
    "    batch_size = int(batch_size)\n",
    "    epochs = int(epochs)\n",
    "    \n",
    "    # Declare Sequential model\n",
    "    model = Sequential()\n",
    "\n",
    "    # CNN model architecture\n",
    "    model.add(Convolution2D(32, (3, 3), activation='relu', input_shape=(HEIGHT, WIDTH, 1)))\n",
    "    model.add(Convolution2D(32, (3, 3), activation='relu'))\n",
    "    model.add(MaxPooling2D(pool_size=(3,3)))\n",
    "    model.add(Dropout(drop_rate1))\n",
    "\n",
    "    model.add(Flatten())\n",
    "    model.add(Dense(dense_size, activation='relu'))\n",
    "    model.add(Dropout(drop_rate2))\n",
    "    model.add(Dense(7, activation='softmax'))\n",
    "\n",
    "    # Compile model\n",
    "    model.compile(loss='categorical_crossentropy',\n",
    "                  optimizer='adam',\n",
    "                  metrics=['accuracy'])\n",
    "\n",
    "    # Fit model\n",
    "    model.fit(X_train_original, Y_train_original, \n",
    "              batch_size=batch_size, epochs=epochs, verbose=1)\n",
    "    \n",
    "    # Evaluate with validation set\n",
    "    score = model.evaluate(X_validate, Y_validate, verbose=1)\n",
    "    return score[1]\n",
    "\n",
    "bo = BayesianOptimization(cnn,\n",
    "            {'drop_rate1': (0, 1), 'drop_rate2': (0, 1), 'dense_size': (7, 8192), 'batch_size': (8, 128), 'epochs': (3, 50)})\n",
    "\n",
    "bo.maximize(init_points=5, n_iter=100, acq='ucb', kappa=5)"
   ]
  }
 ],
 "metadata": {
  "kernelspec": {
   "display_name": "Python 3",
   "language": "python",
   "name": "python3"
  },
  "language_info": {
   "codemirror_mode": {
    "name": "ipython",
    "version": 3
   },
   "file_extension": ".py",
   "mimetype": "text/x-python",
   "name": "python",
   "nbconvert_exporter": "python",
   "pygments_lexer": "ipython3",
   "version": "3.6.1"
  }
 },
 "nbformat": 4,
 "nbformat_minor": 1
}
