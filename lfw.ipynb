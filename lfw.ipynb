{
 "cells": [
  {
   "cell_type": "markdown",
   "metadata": {
    "collapsed": true
   },
   "source": [
    "# Homework #3"
   ]
  },
  {
   "cell_type": "markdown",
   "metadata": {},
   "source": [
    "## Load Data"
   ]
  },
  {
   "cell_type": "code",
   "execution_count": 2,
   "metadata": {},
   "outputs": [
    {
     "name": "stderr",
     "output_type": "stream",
     "text": [
      "Using TensorFlow backend.\n"
     ]
    }
   ],
   "source": [
    "import numpy as np\n",
    "import numpy.random as nr\n",
    "import matplotlib.pyplot as plt\n",
    "%matplotlib inline\n",
    "import seaborn as sb\n",
    "import cv2\n",
    "import pandas as pd\n",
    "from PIL import Image\n",
    "\n",
    "from keras.models import Sequential\n",
    "from keras.layers import Dense, Dropout, Activation, Flatten\n",
    "from keras.layers import Convolution2D, MaxPooling2D\n",
    "from keras import regularizers\n",
    "from keras.utils import np_utils\n",
    "\n",
    "# Size the plot appropriately for online display\n",
    "plt.rcParams['figure.figsize'] = (16.0, 12.0)\n",
    "\n",
    "nr.seed(3244)\n",
    "\n",
    "x_train = np.load('X_train.npy')\n",
    "y_train = np.load('y_train.npy')\n",
    "x_test = np.load('X_test.npy')\n",
    "\n",
    "\n",
    "def imageResize(img):\n",
    "    return cv2.resize(img, (0,0), fx=3, fy=3)\n",
    "\n",
    "# Reshape\n",
    "X_train = x_train.reshape(x_train.shape[0], 50, 37)\n",
    "X_test = x_test.reshape(x_test.shape[0], 50, 37)\n",
    "\n",
    "# Resize\n",
    "# X_train = np.asarray(list(map(imageResize, x_train_reshaped)))\n",
    "# X_test = np.asarray(list(map(imageResize, x_test_reshaped)))\n",
    "\n",
    "N, HEIGHT, WIDTH = X_train.shape"
   ]
  },
  {
   "cell_type": "markdown",
   "metadata": {},
   "source": [
    "# Image Preprocessing Utilities"
   ]
  },
  {
   "cell_type": "code",
   "execution_count": null,
   "metadata": {
    "collapsed": true
   },
   "outputs": [],
   "source": [
    "# Format output file\n",
    "def saveOutput(y_test):\n",
    "    df = pd.DataFrame(y_test,columns=['PredictedClass'])\n",
    "    df['Imageid']=np.arange(len(df))\n",
    "    df.to_csv('y_test.csv',index=False)"
   ]
  },
  {
   "cell_type": "code",
   "execution_count": null,
   "metadata": {
    "collapsed": true
   },
   "outputs": [],
   "source": [
    "def imageFilter(img, kernel):\n",
    "    kernel = np.array(kernel,np.int32)/25\n",
    "    return cv2.filter2D(img,-1,kernel)"
   ]
  },
  {
   "cell_type": "code",
   "execution_count": null,
   "metadata": {
    "collapsed": true
   },
   "outputs": [],
   "source": [
    "def gaussianBlur(img):\n",
    "    return cv2.GaussianBlur(img,(5,5),0)"
   ]
  },
  {
   "cell_type": "code",
   "execution_count": null,
   "metadata": {
    "collapsed": true
   },
   "outputs": [],
   "source": [
    "def sharpen(img):\n",
    "    kernel = np.array([[0,-1,0],[-1,5,-1],[0,-1,0]],np.int32)/25\n",
    "    return cv2.filter2D(img,-1,kernel)"
   ]
  },
  {
   "cell_type": "code",
   "execution_count": null,
   "metadata": {
    "collapsed": true
   },
   "outputs": [],
   "source": [
    "def unsharpMask(img):\n",
    "    gaussian_3 = cv2.GaussianBlur(img, (9,9), 10.0)\n",
    "    return cv2.addWeighted(img, 1.5, gaussian_3, -0.5, 0, img)"
   ]
  },
  {
   "cell_type": "markdown",
   "metadata": {},
   "source": [
    "### Test Image"
   ]
  },
  {
   "cell_type": "code",
   "execution_count": null,
   "metadata": {
    "collapsed": true
   },
   "outputs": [],
   "source": [
    "testImg = X_train[543]\n",
    "plt.axis('off')\n",
    "plt.imshow(testImg)"
   ]
  },
  {
   "cell_type": "code",
   "execution_count": null,
   "metadata": {
    "collapsed": true
   },
   "outputs": [],
   "source": [
    "# Sobel Filter\n",
    "\n",
    "def sobelFilter(imageArray):\n",
    "    sobelHorizontal = imageFilter(imageArray, [[3,10,3],[0,0,0],[-3,-10,-3]])\n",
    "    sobelVertical = imageFilter(imageArray, [[-3,0,3],[-10,0,10],[-3,0,3]])\n",
    "    \n",
    "    sobel = np.empty([HEIGHT, WIDTH])\n",
    "    for i in range (0, HEIGHT):\n",
    "        for j in range (0, WIDTH):\n",
    "            sobel[i][j] = (sobelHorizontal[i][j]**2 + sobelVertical[i][j]**2)**(1/2)\n",
    "            \n",
    "    return sobel\n",
    "\n",
    "sobel = sobelFilter(testImg)\n",
    "plt.axis('off')\n",
    "plt.imshow(sobel)"
   ]
  },
  {
   "cell_type": "code",
   "execution_count": null,
   "metadata": {
    "collapsed": true
   },
   "outputs": [],
   "source": [
    "# Sobel Filter 2D\n",
    "import math\n",
    "\n",
    "def sobelFilter2D(imageArray):\n",
    "    sobelx = cv2.Sobel(imageArray,cv2.CV_64F,1,0,ksize=3)\n",
    "    sobely = cv2.Sobel(imageArray,cv2.CV_64F,0,1,ksize=3)\n",
    "    sobel = np.empty([HEIGHT, WIDTH, 2])\n",
    "    for i in range (0, HEIGHT):\n",
    "        for j in range (0, WIDTH):\n",
    "            sobel[i][j][0] = (sobelx[i][j]**2 + sobely[i][j]**2)**(1/2)\n",
    "            sobel[i][j][1] = np.arctan(sobely[i][j] / sobelx[i][j])\n",
    "            if math.isnan(sobel[i][j][1]): sobel[i][j][1] = 0\n",
    "    return sobel"
   ]
  },
  {
   "cell_type": "code",
   "execution_count": null,
   "metadata": {
    "collapsed": true
   },
   "outputs": [],
   "source": [
    "# canny Filter\n",
    "\n",
    "def cannyFilter(imageArray):\n",
    "    imageArrayCopy = np.uint8(imageArray)\n",
    "    img = cv2.Canny(imageArrayCopy,10,50)\n",
    "    \n",
    "    return img\n",
    "\n",
    "img = cannyFilter(testImg)\n",
    "plt.axis('off')\n",
    "plt.imshow(img)"
   ]
  },
  {
   "cell_type": "markdown",
   "metadata": {},
   "source": [
    "# CNN MODEL"
   ]
  },
  {
   "cell_type": "code",
   "execution_count": null,
   "metadata": {
    "collapsed": true
   },
   "outputs": [],
   "source": [
    "def cnn(X_train, y_train, X_test, image_shape):\n",
    "    HEIGHT, WIDTH, DIMENSION = image_shape\n",
    "    # Reshape\n",
    "    X_train = X_train.reshape(X_train.shape[0], HEIGHT, WIDTH, DIMENSION)\n",
    "    X_test = X_test.reshape(X_test.shape[0], HEIGHT, WIDTH, DIMENSION)\n",
    "\n",
    "    # Normalize\n",
    "    X_train = X_train.astype('float32')\n",
    "    X_test = X_test.astype('float32')\n",
    "    X_train /= 255\n",
    "    X_test /= 255\n",
    "\n",
    "    # Convert label to categorical matrix\n",
    "    Y_train = np_utils.to_categorical(y_train, 7)\n",
    "\n",
    "    # Declare Sequential model\n",
    "    model = Sequential()\n",
    "\n",
    "    # CNN model architecture\n",
    "    model.add(Convolution2D(32, (3, 3), activation='relu', input_shape=(HEIGHT, WIDTH, DIMENSION)))\n",
    "    model.add(Convolution2D(32, (3, 3), activation='relu'))\n",
    "    model.add(MaxPooling2D(pool_size=(3,3)))\n",
    "    model.add(Dropout(0.5))\n",
    "\n",
    "    model.add(Flatten())\n",
    "    model.add(Dense(1024, activation='relu'))\n",
    "    model.add(Dropout(0.7))\n",
    "    model.add(Dense(7, activation='softmax'))\n",
    "\n",
    "    # Compile model\n",
    "    model.compile(loss='categorical_crossentropy',\n",
    "                  optimizer='adam',\n",
    "                  metrics=['accuracy'])\n",
    "    \n",
    "    model.summary()\n",
    "\n",
    "    # Fit model\n",
    "    model.fit(X_train, Y_train,\n",
    "              validation_split=0.5, shuffle=True,\n",
    "              batch_size=42, epochs=1, verbose=1)\n",
    "    \n",
    "    # Evaluate train data\n",
    "    score = model.evaluate(X_train, Y_train, verbose=1)\n",
    "    print()\n",
    "    print(\"Train Accuracy: \" + str(score[1]))\n",
    "    print()\n",
    "    \n",
    "    # Predict test data\n",
    "    prediction = model.predict(X_test, verbose=1)\n",
    "    \n",
    "    # Get output for test data\n",
    "    y_test = map(np.argmax, prediction)\n",
    "    y_test = np.asarray(list(y_test))\n",
    "    print(\"Test output\")\n",
    "    print(y_test)\n",
    "    print(y_test.shape)\n",
    "    \n",
    "    return y_test"
   ]
  },
  {
   "cell_type": "markdown",
   "metadata": {},
   "source": [
    "## VANILLA IMAGES"
   ]
  },
  {
   "cell_type": "code",
   "execution_count": null,
   "metadata": {
    "collapsed": true
   },
   "outputs": [],
   "source": [
    "y_test = cnn(X_train, y_train, X_test, (HEIGHT, WIDTH, 1))"
   ]
  },
  {
   "cell_type": "code",
   "execution_count": null,
   "metadata": {
    "collapsed": true
   },
   "outputs": [],
   "source": [
    "saveOutput(y_test)"
   ]
  },
  {
   "cell_type": "markdown",
   "metadata": {},
   "source": [
    "## SOBEL FILTERED IMAGES version 1"
   ]
  },
  {
   "cell_type": "code",
   "execution_count": null,
   "metadata": {
    "collapsed": true
   },
   "outputs": [],
   "source": [
    "# Apply sobel filter\n",
    "X_train_sobel = np.asarray(list(map(sobelFilter, X_train)))\n",
    "X_test_sobel = np.asarray(list(map(sobelFilter, X_test)))\n",
    "\n",
    "y_test = cnn(X_train_sobel, y_train, X_test_sobel, (HEIGHT, WIDTH, 1))"
   ]
  },
  {
   "cell_type": "code",
   "execution_count": null,
   "metadata": {
    "collapsed": true
   },
   "outputs": [],
   "source": [
    "saveOutput(y_test)"
   ]
  },
  {
   "cell_type": "markdown",
   "metadata": {},
   "source": [
    "## SOBEL FILTERED IMAGES version 2"
   ]
  },
  {
   "cell_type": "code",
   "execution_count": null,
   "metadata": {
    "collapsed": true
   },
   "outputs": [],
   "source": [
    "# Apply 2D sobel filter\n",
    "X_train_sobel2D = np.asarray(list(map(sobelFilter2D, X_train)))\n",
    "X_test_sobel2D = np.asarray(list(map(sobelFilter2D, X_test)))\n",
    "\n",
    "y_test = cnn(X_train_sobel2D, y_train, X_test_sobel2D, (HEIGHT, WIDTH, 2))"
   ]
  },
  {
   "cell_type": "code",
   "execution_count": null,
   "metadata": {
    "collapsed": true
   },
   "outputs": [],
   "source": [
    "saveOutput(y_test)"
   ]
  },
  {
   "cell_type": "markdown",
   "metadata": {},
   "source": [
    "## CANNY FILTERED IMAGES"
   ]
  },
  {
   "cell_type": "code",
   "execution_count": null,
   "metadata": {
    "collapsed": true
   },
   "outputs": [],
   "source": [
    "# Apply canny filter\n",
    "X_train_canny = np.asarray(list(map(cannyFilter, X_train)))\n",
    "X_test_canny = np.asaveOutput(y_test)sarray(list(map(cannyFilter, X_test)))\n",
    "\n",
    "y_test = cnn(X_train_canny, y_train, X_test_canny, (HEIGHT, WIDTH, 1))"
   ]
  },
  {
   "cell_type": "code",
   "execution_count": null,
   "metadata": {
    "collapsed": true
   },
   "outputs": [],
   "source": [
    "saveOutput(y_test)"
   ]
  },
  {
   "cell_type": "markdown",
   "metadata": {},
   "source": [
    "# Bayesian Optimization Hyperparameter Tuning"
   ]
  },
  {
   "cell_type": "code",
   "execution_count": null,
   "metadata": {
    "collapsed": true
   },
   "outputs": [],
   "source": [
    "from bayes_opt import BayesianOptimization\n",
    "\n",
    "# Reshape to 1 dimension\n",
    "X_train_vanilla = X_train.reshape(X_train.shape[0], HEIGHT, WIDTH, 1)\n",
    "X_test_vanilla = X_test.reshape(X_test.shape[0], HEIGHT, WIDTH, 1)\n",
    "\n",
    "# Normalize\n",
    "X_train_vanilla = X_train_vanilla.astype('float32')\n",
    "X_test_vanilla = X_test_vanilla.astype('float32')\n",
    "X_train_vanilla /= 255\n",
    "X_test_vanilla /= 255\n",
    "\n",
    "# Change to categorical matrix\n",
    "Y_train_vanilla = np_utils.to_categorical(y_train, 7)\n",
    "\n",
    "# Split to train set and validation set\n",
    "X_train_original = X_train_vanilla[:700]\n",
    "Y_train_original = Y_train_vanilla[:700]\n",
    "\n",
    "X_validate = X_train_vanilla[700:]\n",
    "Y_validate = Y_train_vanilla[700:]\n",
    "\n",
    "def cnn(drop_rate1, drop_rate2, dense_size, batch_size, epochs):\n",
    "    dense = int(dense)\n",
    "    batch_size = int(batch_size)\n",
    "    epochs = int(epochs)\n",
    "    \n",
    "    # Declare Sequential model\n",
    "    model = Sequential()\n",
    "\n",
    "    # CNN model architecture\n",
    "    model.add(Convolution2D(32, (3, 3), activation='relu', input_shape=(HEIGHT, WIDTH, 1)))\n",
    "    model.add(Convolution2D(32, (3, 3), activation='relu'))\n",
    "    model.add(MaxPooling2D(pool_size=(3,3)))\n",
    "    model.add(Dropout(drop_rate1))\n",
    "\n",
    "    model.add(Flatten())\n",
    "    model.add(Dense(dense_size, activation='relu'))\n",
    "    model.add(Dropout(drop_rate2))\n",
    "    model.add(Dense(7, activation='softmax'))\n",
    "\n",
    "    # Compile model\n",
    "    model.compile(loss='categorical_crossentropy',\n",
    "                  optimizer='adam',\n",
    "                  metrics=['accuracy'])\n",
    "\n",
    "    # Fit model\n",
    "    model.fit(X_train_original, Y_train_original, \n",
    "              batch_size=batch_size, epochs=epochs, verbose=1)\n",
    "    \n",
    "    # Evaluate with validation set\n",
    "    score = model.evaluate(X_validate, Y_validate, verbose=1)\n",
    "    return score[1]\n",
    "\n",
    "bo = BayesianOptimization(cnn,\n",
    "            {'drop_rate1': (0, 1), 'drop_rate2': (0, 1), 'dense_size': (7, 8192), 'batch_size': (8, 128), 'epochs': (3, 50)})\n",
    "\n",
    "bo.maximize(init_points=5, n_iter=100, acq='ucb', kappa=5)"
   ]
  },
  {
   "cell_type": "code",
   "execution_count": null,
   "metadata": {
    "collapsed": true
   },
   "outputs": [],
   "source": []
  },
  {
   "cell_type": "markdown",
   "metadata": {},
   "source": [
    "# Visualization of model architecture"
   ]
  },
  {
   "cell_type": "markdown",
   "metadata": {},
   "source": [
    "### Additional libraries needed for below: pydot,graphviz,viz(https://github.com/raghakot/keras-vis)"
   ]
  },
  {
   "cell_type": "code",
   "execution_count": 3,
   "metadata": {
    "collapsed": true
   },
   "outputs": [],
   "source": [
    "# for plotting and exporting model diagrams\n",
    "from keras.utils import plot_model\n",
    "import pydot,graphviz\n",
    "from IPython.display import SVG\n",
    "from keras.utils.vis_utils import model_to_dot\n",
    "\n",
    "from vis.visualization import visualize_saliency, overlay,visualize_cam\n",
    "from vis.utils import utils\n",
    "from keras import activations\n",
    "import matplotlib.cm as cm"
   ]
  },
  {
   "cell_type": "code",
   "execution_count": 6,
   "metadata": {},
   "outputs": [
    {
     "data": {
      "image/svg+xml": [
       "<svg height=\"629pt\" viewBox=\"0.00 0.00 219.61 629.00\" width=\"220pt\" xmlns=\"http://www.w3.org/2000/svg\" xmlns:xlink=\"http://www.w3.org/1999/xlink\">\n",
       "<g class=\"graph\" id=\"graph0\" transform=\"scale(1 1) rotate(0) translate(4 625)\">\n",
       "<title>G</title>\n",
       "<polygon fill=\"white\" points=\"-4,4 -4,-625 215.61,-625 215.61,4 -4,4\" stroke=\"none\"/>\n",
       "<!-- 4926257248 -->\n",
       "<g class=\"node\" id=\"node1\"><title>4926257248</title>\n",
       "<polygon fill=\"none\" points=\"17.5171,-584.5 17.5171,-620.5 194.093,-620.5 194.093,-584.5 17.5171,-584.5\" stroke=\"black\"/>\n",
       "<text font-family=\"Times,serif\" font-size=\"14.00\" text-anchor=\"middle\" x=\"105.805\" y=\"-598.3\">conv2d_1_input: InputLayer</text>\n",
       "</g>\n",
       "<!-- 4926257136 -->\n",
       "<g class=\"node\" id=\"node2\"><title>4926257136</title>\n",
       "<polygon fill=\"none\" points=\"42.7793,-511.5 42.7793,-547.5 168.831,-547.5 168.831,-511.5 42.7793,-511.5\" stroke=\"black\"/>\n",
       "<text font-family=\"Times,serif\" font-size=\"14.00\" text-anchor=\"middle\" x=\"105.805\" y=\"-525.3\">conv2d_1: Conv2D</text>\n",
       "</g>\n",
       "<!-- 4926257248&#45;&gt;4926257136 -->\n",
       "<g class=\"edge\" id=\"edge1\"><title>4926257248-&gt;4926257136</title>\n",
       "<path d=\"M105.805,-584.313C105.805,-576.289 105.805,-566.547 105.805,-557.569\" fill=\"none\" stroke=\"black\"/>\n",
       "<polygon fill=\"black\" points=\"109.305,-557.529 105.805,-547.529 102.305,-557.529 109.305,-557.529\" stroke=\"black\"/>\n",
       "</g>\n",
       "<!-- 4926164384 -->\n",
       "<g class=\"node\" id=\"node3\"><title>4926164384</title>\n",
       "<polygon fill=\"none\" points=\"42.7793,-438.5 42.7793,-474.5 168.831,-474.5 168.831,-438.5 42.7793,-438.5\" stroke=\"black\"/>\n",
       "<text font-family=\"Times,serif\" font-size=\"14.00\" text-anchor=\"middle\" x=\"105.805\" y=\"-452.3\">conv2d_2: Conv2D</text>\n",
       "</g>\n",
       "<!-- 4926257136&#45;&gt;4926164384 -->\n",
       "<g class=\"edge\" id=\"edge2\"><title>4926257136-&gt;4926164384</title>\n",
       "<path d=\"M105.805,-511.313C105.805,-503.289 105.805,-493.547 105.805,-484.569\" fill=\"none\" stroke=\"black\"/>\n",
       "<polygon fill=\"black\" points=\"109.305,-484.529 105.805,-474.529 102.305,-484.529 109.305,-484.529\" stroke=\"black\"/>\n",
       "</g>\n",
       "<!-- 4926831976 -->\n",
       "<g class=\"node\" id=\"node4\"><title>4926831976</title>\n",
       "<polygon fill=\"none\" points=\"0,-365.5 0,-401.5 211.61,-401.5 211.61,-365.5 0,-365.5\" stroke=\"black\"/>\n",
       "<text font-family=\"Times,serif\" font-size=\"14.00\" text-anchor=\"middle\" x=\"105.805\" y=\"-379.3\">max_pooling2d_1: MaxPooling2D</text>\n",
       "</g>\n",
       "<!-- 4926164384&#45;&gt;4926831976 -->\n",
       "<g class=\"edge\" id=\"edge3\"><title>4926164384-&gt;4926831976</title>\n",
       "<path d=\"M105.805,-438.313C105.805,-430.289 105.805,-420.547 105.805,-411.569\" fill=\"none\" stroke=\"black\"/>\n",
       "<polygon fill=\"black\" points=\"109.305,-411.529 105.805,-401.529 102.305,-411.529 109.305,-411.529\" stroke=\"black\"/>\n",
       "</g>\n",
       "<!-- 4926258088 -->\n",
       "<g class=\"node\" id=\"node5\"><title>4926258088</title>\n",
       "<polygon fill=\"none\" points=\"42.0034,-292.5 42.0034,-328.5 169.607,-328.5 169.607,-292.5 42.0034,-292.5\" stroke=\"black\"/>\n",
       "<text font-family=\"Times,serif\" font-size=\"14.00\" text-anchor=\"middle\" x=\"105.805\" y=\"-306.3\">dropout_1: Dropout</text>\n",
       "</g>\n",
       "<!-- 4926831976&#45;&gt;4926258088 -->\n",
       "<g class=\"edge\" id=\"edge4\"><title>4926831976-&gt;4926258088</title>\n",
       "<path d=\"M105.805,-365.313C105.805,-357.289 105.805,-347.547 105.805,-338.569\" fill=\"none\" stroke=\"black\"/>\n",
       "<polygon fill=\"black\" points=\"109.305,-338.529 105.805,-328.529 102.305,-338.529 109.305,-338.529\" stroke=\"black\"/>\n",
       "</g>\n",
       "<!-- 4927052320 -->\n",
       "<g class=\"node\" id=\"node6\"><title>4927052320</title>\n",
       "<polygon fill=\"none\" points=\"50.1724,-219.5 50.1724,-255.5 161.438,-255.5 161.438,-219.5 50.1724,-219.5\" stroke=\"black\"/>\n",
       "<text font-family=\"Times,serif\" font-size=\"14.00\" text-anchor=\"middle\" x=\"105.805\" y=\"-233.3\">flatten_1: Flatten</text>\n",
       "</g>\n",
       "<!-- 4926258088&#45;&gt;4927052320 -->\n",
       "<g class=\"edge\" id=\"edge5\"><title>4926258088-&gt;4927052320</title>\n",
       "<path d=\"M105.805,-292.313C105.805,-284.289 105.805,-274.547 105.805,-265.569\" fill=\"none\" stroke=\"black\"/>\n",
       "<polygon fill=\"black\" points=\"109.305,-265.529 105.805,-255.529 102.305,-265.529 109.305,-265.529\" stroke=\"black\"/>\n",
       "</g>\n",
       "<!-- 4927010576 -->\n",
       "<g class=\"node\" id=\"node7\"><title>4927010576</title>\n",
       "<polygon fill=\"none\" points=\"53.6792,-146.5 53.6792,-182.5 157.931,-182.5 157.931,-146.5 53.6792,-146.5\" stroke=\"black\"/>\n",
       "<text font-family=\"Times,serif\" font-size=\"14.00\" text-anchor=\"middle\" x=\"105.805\" y=\"-160.3\">dense_1: Dense</text>\n",
       "</g>\n",
       "<!-- 4927052320&#45;&gt;4927010576 -->\n",
       "<g class=\"edge\" id=\"edge6\"><title>4927052320-&gt;4927010576</title>\n",
       "<path d=\"M105.805,-219.313C105.805,-211.289 105.805,-201.547 105.805,-192.569\" fill=\"none\" stroke=\"black\"/>\n",
       "<polygon fill=\"black\" points=\"109.305,-192.529 105.805,-182.529 102.305,-192.529 109.305,-192.529\" stroke=\"black\"/>\n",
       "</g>\n",
       "<!-- 4927011808 -->\n",
       "<g class=\"node\" id=\"node8\"><title>4927011808</title>\n",
       "<polygon fill=\"none\" points=\"42.0034,-73.5 42.0034,-109.5 169.607,-109.5 169.607,-73.5 42.0034,-73.5\" stroke=\"black\"/>\n",
       "<text font-family=\"Times,serif\" font-size=\"14.00\" text-anchor=\"middle\" x=\"105.805\" y=\"-87.3\">dropout_2: Dropout</text>\n",
       "</g>\n",
       "<!-- 4927010576&#45;&gt;4927011808 -->\n",
       "<g class=\"edge\" id=\"edge7\"><title>4927010576-&gt;4927011808</title>\n",
       "<path d=\"M105.805,-146.313C105.805,-138.289 105.805,-128.547 105.805,-119.569\" fill=\"none\" stroke=\"black\"/>\n",
       "<polygon fill=\"black\" points=\"109.305,-119.529 105.805,-109.529 102.305,-119.529 109.305,-119.529\" stroke=\"black\"/>\n",
       "</g>\n",
       "<!-- 4927089016 -->\n",
       "<g class=\"node\" id=\"node9\"><title>4927089016</title>\n",
       "<polygon fill=\"none\" points=\"53.6792,-0.5 53.6792,-36.5 157.931,-36.5 157.931,-0.5 53.6792,-0.5\" stroke=\"black\"/>\n",
       "<text font-family=\"Times,serif\" font-size=\"14.00\" text-anchor=\"middle\" x=\"105.805\" y=\"-14.3\">dense_2: Dense</text>\n",
       "</g>\n",
       "<!-- 4927011808&#45;&gt;4927089016 -->\n",
       "<g class=\"edge\" id=\"edge8\"><title>4927011808-&gt;4927089016</title>\n",
       "<path d=\"M105.805,-73.3129C105.805,-65.2895 105.805,-55.5475 105.805,-46.5691\" fill=\"none\" stroke=\"black\"/>\n",
       "<polygon fill=\"black\" points=\"109.305,-46.5288 105.805,-36.5288 102.305,-46.5289 109.305,-46.5288\" stroke=\"black\"/>\n",
       "</g>\n",
       "</g>\n",
       "</svg>"
      ],
      "text/plain": [
       "<IPython.core.display.SVG object>"
      ]
     },
     "execution_count": 6,
     "metadata": {},
     "output_type": "execute_result"
    }
   ],
   "source": [
    "# uncommet this line to export the image\n",
    "# plot_model(model, to_file='sobel model.png')\n",
    "SVG(model_to_dot(model).create(prog='dot', format='svg'))"
   ]
  },
  {
   "cell_type": "markdown",
   "metadata": {},
   "source": [
    "# Visualization of the FC layer activation"
   ]
  },
  {
   "cell_type": "markdown",
   "metadata": {},
   "source": [
    "#### Train the model first before this visualization"
   ]
  },
  {
   "cell_type": "code",
   "execution_count": null,
   "metadata": {
    "collapsed": true
   },
   "outputs": [],
   "source": [
    "# For original image trained model\n",
    "\n",
    "# Alternatively we can specify this as -1 since it corresponds to the last layer.\n",
    "layer_idx = utils.find_layer_idx(model, 'dense_2')\n",
    "\n",
    "# Swap softmax with linear\n",
    "model.layers[layer_idx].activation = activations.linear\n",
    "model = utils.apply_modifications(model)\n",
    "\n",
    "grads = visualize_saliency(model, layer_idx, filter_indices=class_idx, seed_input=X_train_vanilla[2]) # can choose any number\n",
    "# Plot with 'jet' colormap to visualize as a heatmap.\n",
    "plt.imshow(grads, cmap='jet')"
   ]
  },
  {
   "cell_type": "code",
   "execution_count": null,
   "metadata": {
    "collapsed": true
   },
   "outputs": [],
   "source": [
    "# For sobel image trained model\n",
    "\n",
    "layer_idx = -1 # or utils.find_layer_idx(model, 'dense_2')\n",
    "\n",
    "# Swap softmax with linear\n",
    "model.layers[layer_idx].activation = activations.linear\n",
    "model = utils.apply_modifications(model)\n",
    "\n",
    "seen = []\n",
    "# This corresponds to the Dense linear layer.\n",
    "for image_idx in np.arange(100):  \n",
    "    class_idx = int(np.where(Y_train[image_idx]==1)[0])    \n",
    "    if class_idx in seen:\n",
    "        continue       \n",
    "    else:\n",
    "        seen.append(class_idx)\n",
    "    if len(seen)==7:\n",
    "        break\n",
    "    \n",
    "    f, ax = plt.subplots(1, 4)\n",
    "    ax[0].imshow(X_train_sobel[image_idx][:,:,0])\n",
    "    ax[0].set_title('original')\n",
    "    \n",
    "    for i, modifier in enumerate([None, 'guided', 'relu']):\n",
    "        grads = visualize_saliency(model, layer_idx, filter_indices=class_idx, \n",
    "                                   seed_input=X_train_sobel[image_idx], backprop_modifier=modifier)\n",
    "    \n",
    "        if modifier is None:\n",
    "            modifier = 'vanilla'\n",
    "        ax[i+1].set_title(modifier)    \n",
    "        ax[i+1].imshow(grads, cmap='jet')\n",
    "        \n",
    "        plt.savefig('class'+str(class_idx)+'_sobel.png')"
   ]
  }
 ],
 "metadata": {
  "kernelspec": {
   "display_name": "Python 3",
   "language": "python",
   "name": "python3"
  },
  "language_info": {
   "codemirror_mode": {
    "name": "ipython",
    "version": 3
   },
   "file_extension": ".py",
   "mimetype": "text/x-python",
   "name": "python",
   "nbconvert_exporter": "python",
   "pygments_lexer": "ipython3",
   "version": "3.5.4"
  }
 },
 "nbformat": 4,
 "nbformat_minor": 1
}
